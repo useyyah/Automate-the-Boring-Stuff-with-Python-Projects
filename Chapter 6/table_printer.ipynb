{
 "cells": [
  {
   "cell_type": "code",
   "execution_count": 13,
   "id": "b5bda8ad",
   "metadata": {
    "ExecuteTime": {
     "end_time": "2021-09-03T18:37:50.628512Z",
     "start_time": "2021-09-03T18:37:50.615546Z"
    }
   },
   "outputs": [
    {
     "name": "stdout",
     "output_type": "stream",
     "text": [
      "[8, 5, 5]\n",
      "  apples Alice  dogs \n",
      " oranges   Bob  cats \n",
      "cherries Carol moose \n",
      "  banana David goose \n"
     ]
    }
   ],
   "source": [
    "\"\"\"Prints a nicely aligned table from a list of strings.\"\"\"\n",
    "\n",
    "table_data =[['apples', 'oranges', 'cherries', 'banana'],\n",
    "             ['Alice', 'Bob', 'Carol', 'David'],\n",
    "             ['dogs', 'cats', 'moose', 'goose']]\n",
    "\n",
    "def print_table(table):\n",
    "    \"\"\"Print a formatted, properly aligned table version of a list.\"\"\"\n",
    "    num_of_lists = len(table)\n",
    "    items_in_lists = len(table[0])\n",
    "    max_length_list = []\n",
    "    \n",
    "    for list in table:\n",
    "        max_length_item = 0\n",
    "        for item in list:\n",
    "            if len(item) > max_length_item:\n",
    "                max_length_item = len(item)\n",
    "        max_length_list.append(max_length_item)\n",
    "    print(max_length_list)\n",
    "    \n",
    "    for row in range(items_in_lists):\n",
    "        for col in range(num_of_lists):\n",
    "            print(table[col][row].rjust(max_length_list[col]), end=' ')\n",
    "        print('')\n",
    "        \n",
    "print_table(table_data)"
   ]
  }
 ],
 "metadata": {
  "kernelspec": {
   "display_name": "Python 3",
   "language": "python",
   "name": "python3"
  },
  "language_info": {
   "codemirror_mode": {
    "name": "ipython",
    "version": 3
   },
   "file_extension": ".py",
   "mimetype": "text/x-python",
   "name": "python",
   "nbconvert_exporter": "python",
   "pygments_lexer": "ipython3",
   "version": "3.8.8"
  },
  "toc": {
   "base_numbering": 1,
   "nav_menu": {},
   "number_sections": true,
   "sideBar": true,
   "skip_h1_title": false,
   "title_cell": "Table of Contents",
   "title_sidebar": "Contents",
   "toc_cell": false,
   "toc_position": {},
   "toc_section_display": true,
   "toc_window_display": false
  },
  "varInspector": {
   "cols": {
    "lenName": 16,
    "lenType": 16,
    "lenVar": 40
   },
   "kernels_config": {
    "python": {
     "delete_cmd_postfix": "",
     "delete_cmd_prefix": "del ",
     "library": "var_list.py",
     "varRefreshCmd": "print(var_dic_list())"
    },
    "r": {
     "delete_cmd_postfix": ") ",
     "delete_cmd_prefix": "rm(",
     "library": "var_list.r",
     "varRefreshCmd": "cat(var_dic_list()) "
    }
   },
   "types_to_exclude": [
    "module",
    "function",
    "builtin_function_or_method",
    "instance",
    "_Feature"
   ],
   "window_display": false
  }
 },
 "nbformat": 4,
 "nbformat_minor": 5
}
