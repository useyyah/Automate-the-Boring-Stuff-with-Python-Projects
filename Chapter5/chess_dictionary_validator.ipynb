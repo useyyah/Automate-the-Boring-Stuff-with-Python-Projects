{
 "cells": [
  {
   "cell_type": "code",
   "execution_count": 10,
   "id": "cc8e1fa9",
   "metadata": {
    "ExecuteTime": {
     "end_time": "2021-09-03T00:17:08.913797Z",
     "start_time": "2021-09-03T00:17:08.905819Z"
    }
   },
   "outputs": [
    {
     "name": "stdout",
     "output_type": "stream",
     "text": [
      "True\n"
     ]
    }
   ],
   "source": [
    "def isValidChessBoard(chessboard_dict):\n",
    "    count = {}\n",
    "    for v in chessboard_dict.values():\n",
    "        count.setdefault(v, 0)\n",
    "        count[v] += count[v] + 1\n",
    "        \n",
    "    for x in ['bking', 'wking']:\n",
    "        if count[x] != 1:\n",
    "            return False\n",
    "        \n",
    "    whites = blacks = 0\n",
    "    for x in count.keys():\n",
    "        if x[0] == 'b':\n",
    "            blacks += 1\n",
    "        elif x[0] == 'w':\n",
    "            whites += 1\n",
    "        else:\n",
    "            return False\n",
    "    if blacks > 16 or whites > 16:\n",
    "        return False\n",
    "    \n",
    "    for x in ['bpawn', 'wpawn']:\n",
    "        if x in count.keys():\n",
    "            if count[x] not in range (1,9):\n",
    "                return False\n",
    "            \n",
    "    for x in ['bknight', 'wknight', 'bbishop', 'wbishop', 'brook', 'wrook', 'bqueen', 'wqueen']:\n",
    "        if x in count.keys():\n",
    "            if count[x] not in range(1,3):\n",
    "                return False\n",
    "    \n",
    "    for k in chessboard_dict.keys():\n",
    "        if int(k[0]) > 8:\n",
    "            return False\n",
    "        if k[1] not in {'a', 'b', 'c', 'd', 'e', 'f', 'g', 'h'}:\n",
    "            return False\n",
    "    return True\n",
    "\n",
    "example_chessboard = {'1h': 'bking', '6c': 'wqueen', '2g': 'bbishop', '5h': 'bqueen', '3e': 'wking'}\n",
    "print(isValidChessBoard(example_chessboard))"
   ]
  }
 ],
 "metadata": {
  "kernelspec": {
   "display_name": "Python 3",
   "language": "python",
   "name": "python3"
  },
  "language_info": {
   "codemirror_mode": {
    "name": "ipython",
    "version": 3
   },
   "file_extension": ".py",
   "mimetype": "text/x-python",
   "name": "python",
   "nbconvert_exporter": "python",
   "pygments_lexer": "ipython3",
   "version": "3.8.8"
  },
  "toc": {
   "base_numbering": 1,
   "nav_menu": {},
   "number_sections": true,
   "sideBar": true,
   "skip_h1_title": false,
   "title_cell": "Table of Contents",
   "title_sidebar": "Contents",
   "toc_cell": false,
   "toc_position": {},
   "toc_section_display": true,
   "toc_window_display": false
  },
  "varInspector": {
   "cols": {
    "lenName": 16,
    "lenType": 16,
    "lenVar": 40
   },
   "kernels_config": {
    "python": {
     "delete_cmd_postfix": "",
     "delete_cmd_prefix": "del ",
     "library": "var_list.py",
     "varRefreshCmd": "print(var_dic_list())"
    },
    "r": {
     "delete_cmd_postfix": ") ",
     "delete_cmd_prefix": "rm(",
     "library": "var_list.r",
     "varRefreshCmd": "cat(var_dic_list()) "
    }
   },
   "types_to_exclude": [
    "module",
    "function",
    "builtin_function_or_method",
    "instance",
    "_Feature"
   ],
   "window_display": false
  }
 },
 "nbformat": 4,
 "nbformat_minor": 5
}
