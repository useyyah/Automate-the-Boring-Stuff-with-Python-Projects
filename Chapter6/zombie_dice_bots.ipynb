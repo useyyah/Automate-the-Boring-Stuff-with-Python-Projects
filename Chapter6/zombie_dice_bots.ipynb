{
 "cells": [
  {
   "cell_type": "code",
   "execution_count": null,
   "id": "0f3017b7",
   "metadata": {
    "ExecuteTime": {
     "start_time": "2021-09-03T20:35:30.892Z"
    }
   },
   "outputs": [
    {
     "name": "stdout",
     "output_type": "stream",
     "text": [
      "Zombie Dice Visualization is running. Open your browser to http://localhost:53128 to view it.\n",
      "Press Ctrl-C to quit.\n"
     ]
    }
   ],
   "source": [
    "import zombiedice\n",
    "\n",
    "\n",
    "class MyZombie:\n",
    "    def __init__(self, name):\n",
    "        # All zombies must have a name:\n",
    "        self.name = name\n",
    "\n",
    "    def turn(self, game_state):\n",
    "        # game_state is a dict with info about the current state of the game.\n",
    "        # You can choose to ignore it in your code.\n",
    "\n",
    "        dice_roll_results = zombiedice.roll()  # first roll\n",
    "        # roll() returns a dictionary with keys 'brains', 'shotgun', and\n",
    "        # 'footsteps' with how many rolls of each type there were.\n",
    "        # The 'rolls' key is a list of (color, icon) tuples with the\n",
    "        # exact roll result information.\n",
    "        # Example of a roll() return value:\n",
    "        # {'brains': 1, 'footsteps': 1, 'shotgun': 1,\n",
    "        # 'rolls': [('yellow', 'brains'), ('red', 'footsteps'),\n",
    "        #           ('green', 'shotgun')]}\n",
    "\n",
    "        # REPLACE THIS ZOMBIE CODE WITH YOUR OWN:\n",
    "        brains = 0\n",
    "        while dice_roll_results is not None:\n",
    "            brain += dice_roll_results['brains']\n",
    "\n",
    "            if brains < 2:\n",
    "                dice_roll_results = zombiedice.roll()  # roll again\n",
    "            else:\n",
    "                break\n",
    "\n",
    "zombies = (\n",
    "    zombiedice.examples.RandomCoinFlipZombie(name='Random'),\n",
    "    zombiedice.examples.RollsUntilInTheLeadZombie(name='Until Leading'),\n",
    "    zombiedice.examples.MinNumShotgunsThenStopsZombie(\n",
    "        name='Stop at 2 Shotguns', minShotguns=2),\n",
    "    zombiedice.examples.MinNumShotgunsThenStopsZombie(\n",
    "        name='Stop at 1 Shotgun1', minShotguns=1),\n",
    "    MyZombie(name='My Zombie Bot'),\n",
    "    # Add any other zombie players here.\n",
    "    )\n",
    "\n",
    "\n",
    "# Uncomment one of the following lines to run in CLI or Web GUI mode:\n",
    "#zombiedice.runTournament(zombies=zombies, numGames=1000)\n",
    "zombiedice.runWebGui(zombies=zombies, numGames=1000)"
   ]
  }
 ],
 "metadata": {
  "kernelspec": {
   "display_name": "Python 3",
   "language": "python",
   "name": "python3"
  },
  "language_info": {
   "codemirror_mode": {
    "name": "ipython",
    "version": 3
   },
   "file_extension": ".py",
   "mimetype": "text/x-python",
   "name": "python",
   "nbconvert_exporter": "python",
   "pygments_lexer": "ipython3",
   "version": "3.8.8"
  },
  "toc": {
   "base_numbering": 1,
   "nav_menu": {},
   "number_sections": true,
   "sideBar": true,
   "skip_h1_title": false,
   "title_cell": "Table of Contents",
   "title_sidebar": "Contents",
   "toc_cell": false,
   "toc_position": {},
   "toc_section_display": true,
   "toc_window_display": false
  },
  "varInspector": {
   "cols": {
    "lenName": 16,
    "lenType": 16,
    "lenVar": 40
   },
   "kernels_config": {
    "python": {
     "delete_cmd_postfix": "",
     "delete_cmd_prefix": "del ",
     "library": "var_list.py",
     "varRefreshCmd": "print(var_dic_list())"
    },
    "r": {
     "delete_cmd_postfix": ") ",
     "delete_cmd_prefix": "rm(",
     "library": "var_list.r",
     "varRefreshCmd": "cat(var_dic_list()) "
    }
   },
   "types_to_exclude": [
    "module",
    "function",
    "builtin_function_or_method",
    "instance",
    "_Feature"
   ],
   "window_display": false
  }
 },
 "nbformat": 4,
 "nbformat_minor": 5
}
